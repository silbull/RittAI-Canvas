{
 "cells": [
  {
   "cell_type": "code",
   "execution_count": 1,
   "metadata": {},
   "outputs": [],
   "source": [
    "import json, pprint\n",
    "\n",
    "import pandas as pd\n",
    "\n",
    "import matplotlib.pyplot as plt\n",
    "import japanize_matplotlib\n",
    "import networkx as nx\n",
    "from pyvis.network import Network\n",
    "%matplotlib inline"
   ]
  },
  {
   "cell_type": "code",
   "execution_count": 2,
   "metadata": {},
   "outputs": [],
   "source": [
    "import os, sys\n",
    "sys.path.append(os.path.join(os.path.dirname(\"__file__\"), '..'))"
   ]
  },
  {
   "cell_type": "code",
   "execution_count": 3,
   "metadata": {},
   "outputs": [
    {
     "name": "stderr",
     "output_type": "stream",
     "text": [
      "/Users/ozakimahiro/venv/lib/python3.9/site-packages/urllib3/__init__.py:34: NotOpenSSLWarning: urllib3 v2.0 only supports OpenSSL 1.1.1+, currently the 'ssl' module is compiled with 'LibreSSL 2.8.3'. See: https://github.com/urllib3/urllib3/issues/3020\n",
      "  warnings.warn(\n"
     ]
    }
   ],
   "source": [
    "from classes.dependency_analysis import DependencyAnalysis"
   ]
  },
  {
   "cell_type": "code",
   "execution_count": 4,
   "metadata": {},
   "outputs": [],
   "source": [
    "QUESTION_INPUT_PATH = \"../datas/question_sentence/dataset_01.json\"\n",
    "TOKEN_OUTPUT_PATH = \"../datas/token/keywords.json\""
   ]
  },
  {
   "cell_type": "code",
   "execution_count": 5,
   "metadata": {},
   "outputs": [
    {
     "name": "stdout",
     "output_type": "stream",
     "text": [
      "[{'answer': ['A = (0, 0, 0)',\n",
      "             'B = (40, 0, 0)',\n",
      "             'C = (40, 30, 0)',\n",
      "             'D = (0, 30, 0)',\n",
      "             'E = (0, 0, 50)',\n",
      "             'F = (40, 0, 50)',\n",
      "             'G = (40, 30, 50)',\n",
      "             'H = (0, 30, 50)',\n",
      "             'Segment(A, B)',\n",
      "             'Segment(B, C)',\n",
      "             'Segment(C, D)',\n",
      "             'Segment(D, A)',\n",
      "             'Segment(E, F)',\n",
      "             'Segment(F, G)',\n",
      "             'Segment(G, H)',\n",
      "             'Segment(H, E)',\n",
      "             'Segment(A, E)',\n",
      "             'Segment(B, F)',\n",
      "             'Segment(C, G)',\n",
      "             'Segment(D, H)',\n",
      "             'Segment(D, F)',\n",
      "             'I = PerpendicularLine(B, Segment(D, F))'],\n",
      "  'id': 1,\n",
      "  'impression': ['垂線がなかったけど，PerpendicularLine関数の存在を教えたらいけた．'],\n",
      "  'normalized': '立体ABCD-EFGHは，AB=40cm，AD=30cm，AE=50cmの直方体である．頂点Dと頂点Fを結び，頂点Bから線分DFに引いた垂線と線分DFとの交点をIとする．線分BIの長さは何cmか．',\n",
      "  'original': '立体ABCD-EFGHは，AB=40cm，AD=30cm，AE=50cmの直方体である．頂点Dと頂点Fを結び，頂点Bから線分DFに引いた垂線と線分DFとの交点をIとする．線分BIの長さは何cmか．'},\n",
      " {'id': 2,\n",
      "  'impression': ['四面体が描画できていない(長さ→座標が計算できてない)．'],\n",
      "  'normalized': 'AB = √3，AC=AD=BC=DB=4の四面体ABCDがある．また，辺CDの中点をMとする．頂点Aから三角形BCDに垂線AHを下ろしたとき，AHの長さを求めよ．',\n",
      "  'original': 'AB = √3，AC=AD=BC=DB=4の四面体ABCDがある．また，辺CDの中点をMとする．頂点Aから三角形BCDに垂線AHを下ろしたとき，AHの長さを求めよ．'},\n",
      " {'id': 3,\n",
      "  'impression': ['四面体が描画できていない(長さ→座標が計算できてない)．', 'なんか平面を描画した(謎)'],\n",
      "  'normalized': '四面体ABCDにおいて，AB=3, BC=√13, CA=4, DA=DB=DC=3とし，頂点Dから △ABCに垂線DHを下ろす．',\n",
      "  'original': '四面体ABCDにおいて，AB=3, BC=√13, CA=4, DA=DB=DC=3とし，頂点Dから △ABCに垂線DHを下ろす。'},\n",
      " {'id': 4,\n",
      "  'impression': ['変数a,b,cの部分がうまくいってない．', '変数を指定してあげたら正解していた．'],\n",
      "  'normalized': '直方体ABCD-EFGHにおいて，辺AB，AD，AEの長さをそれぞれa，b，cとする．また，頂点Aから直線FHにおろした垂線をALとする．',\n",
      "  'original': '直方体ABCD-EFGHにおいて，辺AB，AD，AEの長さをそれぞれa，b，cとする．また，頂点Aから直線FHにおろした垂線をALとする．(変数のときどうなるのか)'},\n",
      " {'id': 5,\n",
      "  'impression': ['そもそも台形が描画できない．長さの情報から座標に落とし込めてない．', '回転体についてもSurface関数の使い方がわかっていない．'],\n",
      "  'normalized': 'AB=5 cm，BC=6 cm，AD=3 cm，∠C=∠D=90°の台形 ABCD を，辺 DC を軸として 1回転させてできる立体の体積を求めなさい．',\n",
      "  'original': 'AB＝5 cm，BC＝6 cm，AD＝3 cm，∠C＝∠D＝90°の台形 ABCD を，辺 DC を軸として 1回転させてできる立体の体積を求めなさい。(回転体はいける？)'},\n",
      " {'id': 6,\n",
      "  'impression': ['円錐は描画できた．', '円柱を描こうとはしているが，位置が間違っている．'],\n",
      "  'normalized': '底面の半径が 3 cm の円すいの中に，底面の半径が 1 cm，高さが 4 cm の円柱がある。円柱の上面は円すいの側面に接し，底面は円すいの底面に固定されている.',\n",
      "  'original': '底面の半径が 3 cm の円すいの中に，底面の半径が 1 cm，高さが 4 cm の円柱がある。円柱の上面は円すいの側面に接し，底面は円すいの底面に固定されている.'},\n",
      " {'id': 7,\n",
      "  'impression': ['概ね正解．', 'Nだけ描画できてなかったが，使う関数は合ってた．引数が惜しい．'],\n",
      "  'normalized': 'AB=3 cm，BC=4 cm，BF=5 cm の直方体 ABCDEFGH がある。線分 FH の中点を M とし，線分 DM と線分 BH との交点を N とする．',\n",
      "  'original': 'AB＝3 cm，BC＝4 cm，BF＝5 cm の直方体 ABCDEFGH がある。線分 FH の中点を M とし，線分 DM と線分 BH との交点を N とする．'},\n",
      " {'id': 8,\n",
      "  'impression': ['OK'],\n",
      "  'normalized': 'AB=30 cm，AD=20 cm，AE=5 cm の直方体 ABCD-EFGH がある。辺 AB，HG の中点をそれぞれ M，N とし，頂点 A から線分 DM に引いた垂線と線分 DM の交点を P とする。',\n",
      "  'original': 'AB＝30 cm，AD＝20 cm，AE＝5 cm の直方体 ABCD－EFGH がある。辺 AB，HG の中点をそれぞれ M，N とし，頂点 A から線分 DM に引いた垂線と線分 DM の交点を P とする。'},\n",
      " {'id': 9,\n",
      "  'impression': ['立方体と対角線はOK', 'P, Qは惜しい感じ'],\n",
      "  'normalized': '１辺の長さが 6 cm の立方体がある。正方形 AEFB の対角線 AF 上に AP=PQ=QF となるように2点P，Q をとる。',\n",
      "  'original': '１辺の長さが 6 cm の立方体がある。正方形 AEFB の対角線 AF 上に AP＝PQ＝QF となるように２点P，Q をとる。'},\n",
      " {'id': 10,\n",
      "  'impression': ['立方体と対角線はOK', 'Iはダメ．線AG上ってのがきつそう'],\n",
      "  'normalized': '1辺が6cmの立方体ABCD-EFGHがあります．この立方体の対角線AG上に，角AIF=90°となる点Iをとります．',\n",
      "  'original': '1辺が6cmの立方体ABCD-EFGHがあります．この立方体の対角線AG上に，角AIF=90°となる点Iをとります．'}]\n"
     ]
    }
   ],
   "source": [
    "with open(QUESTION_INPUT_PATH, \"r\") as f:\n",
    "    question_dict = json.load(f)\n",
    "\n",
    "pprint.pprint(question_dict, width=150)"
   ]
  },
  {
   "cell_type": "code",
   "execution_count": 6,
   "metadata": {},
   "outputs": [
    {
     "name": "stderr",
     "output_type": "stream",
     "text": [
      "/Users/ozakimahiro/venv/lib/python3.9/site-packages/tqdm/auto.py:21: TqdmWarning: IProgress not found. Please update jupyter and ipywidgets. See https://ipywidgets.readthedocs.io/en/stable/user_install.html\n",
      "  from .autonotebook import tqdm as notebook_tqdm\n"
     ]
    },
    {
     "name": "stdout",
     "output_type": "stream",
     "text": [
      "\n"
     ]
    }
   ],
   "source": [
    "# インスタンス作成\n",
    "q1 = DependencyAnalysis(\n",
    "   document = question_dict[0][\"normalized\"], \n",
    "   model = \"ja_ginza_electra\"\n",
    ")\n",
    "# 形態素解析を実行\n",
    "q1.analyze()\n",
    "print(\"\")"
   ]
  },
  {
   "cell_type": "code",
   "execution_count": 7,
   "metadata": {},
   "outputs": [],
   "source": [
    "tokens_list = []\n",
    "for token in q1.doc:\n",
    "    token_data = {\n",
    "        \"text\":     token.text,     # テキスト\n",
    "        \"lemma\":    token.lemma_,   # レンマ\n",
    "        \"pos\":      token.pos_,     # 品詞\n",
    "        \"tag\":      token.tag_,     # 品詞詳細\n",
    "        \"dep\":      token.dep_,     # 構文従属関係\n",
    "        \"shape\":    token.shape_,   # 正書法の特徴(x:文字,d:数値)\n",
    "        \"is_alpha\": token.is_alpha, # 文字かどうか\n",
    "        \"is_stop\":  token.is_stop   # ストップリストの一部かどうか\n",
    "    }\n",
    "    tokens_list.append(token_data)\n",
    "df_tokens = pd.DataFrame(data = tokens_list , columns = token_data)\n",
    "\n",
    "# トークンデータフレームはExcelで可視化\n",
    "df_tokens.to_excel(\"token_list.xlsx\", index=False)"
   ]
  },
  {
   "cell_type": "code",
   "execution_count": 8,
   "metadata": {},
   "outputs": [
    {
     "name": "stdout",
     "output_type": "stream",
     "text": [
      "Created instance of 1/10\n",
      "Created instance of 2/10\n",
      "Created instance of 3/10\n",
      "Created instance of 4/10\n",
      "Created instance of 5/10\n",
      "Created instance of 6/10\n",
      "Created instance of 7/10\n",
      "Created instance of 8/10\n",
      "Created instance of 9/10\n",
      "Created instance of 10/10\n"
     ]
    }
   ],
   "source": [
    "# インスタンスのリストを作成\n",
    "q_instance_list = []\n",
    "for i in range(len(question_dict)):\n",
    "   q1 = DependencyAnalysis(\n",
    "      document = question_dict[i][\"normalized\"], \n",
    "      model = \"ja_ginza_electra\"\n",
    "   )\n",
    "   # 形態素解析を実行\n",
    "   q1.analyze()\n",
    "   q_instance_list.append(q1)\n",
    "   print(f\"Created instance of {i+1}/{len(question_dict)}\")"
   ]
  },
  {
   "cell_type": "code",
   "execution_count": 9,
   "metadata": {},
   "outputs": [],
   "source": [
    "def AddWordDict(word_dict, word):\n",
    "    if (word in word_dict.keys()):\n",
    "        word_dict[word] += 1\n",
    "    else:\n",
    "        word_dict[word] = 1\n",
    "\n",
    "nouns = {}\n",
    "nouns_Jap = {}\n",
    "nouns_symbol = {}\n",
    "verbs = {}\n",
    "for i in range(len(q_instance_list)):\n",
    "    for token in q_instance_list[i].doc:\n",
    "        # 名詞かどうか\n",
    "        if token.pos_ == \"NOUN\":\n",
    "            AddWordDict(nouns, token.text)\n",
    "            # アスキー文字(=アルファベット)かどうか\n",
    "            if token.text.isascii():\n",
    "                AddWordDict(nouns_symbol, token.text)\n",
    "            # 非アスキー文字(=日本語等)かどうか\n",
    "            else:\n",
    "                AddWordDict(nouns_Jap, token.text)\n",
    "        \n",
    "        # 名詞かどうか\n",
    "        elif token.pos_ == \"VERB\":\n",
    "            AddWordDict(verbs, token.text)\n",
    "\n",
    "# print(f\"Jap: {nouns_Jap}\")\n",
    "# print(f\"sym: {nouns_symbol}\")\n",
    "# print(f\"vrb: {verbs}\")\n",
    "\n",
    "# pprint.pprint(nouns_Jap)\n",
    "# pprint.pprint(verbs)"
   ]
  },
  {
   "cell_type": "code",
   "execution_count": 10,
   "metadata": {},
   "outputs": [],
   "source": [
    "# jsonに書き込み&新規作成\n",
    "with open(TOKEN_OUTPUT_PATH, 'w', encoding=\"utf-8\") as f:\n",
    "    json.dump(nouns_Jap, f, sort_keys=False, indent=4, ensure_ascii=False)"
   ]
  }
 ],
 "metadata": {
  "kernelspec": {
   "display_name": "venv",
   "language": "python",
   "name": "python3"
  },
  "language_info": {
   "codemirror_mode": {
    "name": "ipython",
    "version": 3
   },
   "file_extension": ".py",
   "mimetype": "text/x-python",
   "name": "python",
   "nbconvert_exporter": "python",
   "pygments_lexer": "ipython3",
   "version": "3.9.6"
  },
  "orig_nbformat": 4
 },
 "nbformat": 4,
 "nbformat_minor": 2
}
