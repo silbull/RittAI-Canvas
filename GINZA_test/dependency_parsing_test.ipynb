{
 "cells": [
  {
   "cell_type": "code",
   "execution_count": 11,
   "metadata": {},
   "outputs": [],
   "source": [
    "import json, pprint\n",
    "\n",
    "import pandas as pd\n",
    "\n",
    "import matplotlib.pyplot as plt\n",
    "import japanize_matplotlib\n",
    "import networkx as nx\n",
    "from pyvis.network import Network\n",
    "%matplotlib inline"
   ]
  },
  {
   "cell_type": "code",
   "execution_count": 12,
   "metadata": {},
   "outputs": [],
   "source": [
    "import os, sys\n",
    "sys.path.append(os.path.join(os.path.dirname(\"__file__\"), '..'))"
   ]
  },
  {
   "cell_type": "code",
   "execution_count": 13,
   "metadata": {},
   "outputs": [],
   "source": [
    "from classes.dependency_analysis import DependencyAnalysis"
   ]
  },
  {
   "cell_type": "code",
   "execution_count": 14,
   "metadata": {},
   "outputs": [],
   "source": [
    "QUESTION_INPUT_PATH = \"../datas/question_sentence/dataset_01.json\"\n",
    "GRAPH_DATA_PATH = \"../datas/graphs/string_graph.txt\"\n",
    "GRAPH_IMAGE_PATH = \"../datas/graphs/dependency_network.html\""
   ]
  },
  {
   "cell_type": "code",
   "execution_count": 15,
   "metadata": {},
   "outputs": [
    {
     "name": "stdout",
     "output_type": "stream",
     "text": [
      "[{'answer': ['A = (0, 0, 0)',\n",
      "             'B = (40, 0, 0)',\n",
      "             'C = (40, 30, 0)',\n",
      "             'D = (0, 30, 0)',\n",
      "             'E = (0, 0, 50)',\n",
      "             'F = (40, 0, 50)',\n",
      "             'G = (40, 30, 50)',\n",
      "             'H = (0, 30, 50)',\n",
      "             'Segment(A, B)',\n",
      "             'Segment(B, C)',\n",
      "             'Segment(C, D)',\n",
      "             'Segment(D, A)',\n",
      "             'Segment(E, F)',\n",
      "             'Segment(F, G)',\n",
      "             'Segment(G, H)',\n",
      "             'Segment(H, E)',\n",
      "             'Segment(A, E)',\n",
      "             'Segment(B, F)',\n",
      "             'Segment(C, G)',\n",
      "             'Segment(D, H)',\n",
      "             'Segment(D, F)',\n",
      "             'I = PerpendicularLine(B, Segment(D, F))'],\n",
      "  'id': 1,\n",
      "  'impression': ['垂線がなかったけど，PerpendicularLine関数の存在を教えたらいけた．'],\n",
      "  'normalized': '立体ABCD-EFGHは，AB=40cm，AD=30cm，AE=50cmの直方体である．頂点Dと頂点Fを結び，頂点Bから線分DFに引いた垂線と線分DFとの交点をIとする．線分BIの長さは何cmか．',\n",
      "  'original': '立体ABCD-EFGHは，AB=40cm，AD=30cm，AE=50cmの直方体である．頂点Dと頂点Fを結び，頂点Bから線分DFに引いた垂線と線分DFとの交点をIとする．線分BIの長さは何cmか．'},\n",
      " {'id': 2,\n",
      "  'impression': ['四面体が描画できていない(長さ→座標が計算できてない)．'],\n",
      "  'normalized': 'AB = √3，AC=AD=BC=DB=4の四面体ABCDがある．また，辺CDの中点をMとする．頂点Aから三角形BCDに垂線AHを下ろしたとき，AHの長さを求めよ．',\n",
      "  'original': 'AB = √3，AC=AD=BC=DB=4の四面体ABCDがある．また，辺CDの中点をMとする．頂点Aから三角形BCDに垂線AHを下ろしたとき，AHの長さを求めよ．'},\n",
      " {'id': 3,\n",
      "  'impression': ['四面体が描画できていない(長さ→座標が計算できてない)．', 'なんか平面を描画した(謎)'],\n",
      "  'normalized': '四面体ABCDにおいて，AB=3, BC=√13, CA=4, DA=DB=DC=3とし，頂点Dから △ABCに垂線DHを下ろす．',\n",
      "  'original': '四面体ABCDにおいて，AB=3, BC=√13, CA=4, DA=DB=DC=3とし，頂点Dから △ABCに垂線DHを下ろす。'},\n",
      " {'id': 4,\n",
      "  'impression': ['変数a,b,cの部分がうまくいってない．', '変数を指定してあげたら正解していた．'],\n",
      "  'normalized': '直方体ABCD-EFGHにおいて，辺AB，AD，AEの長さをそれぞれa，b，cとする．また，頂点Aから直線FHにおろした垂線をALとする．',\n",
      "  'original': '直方体ABCD-EFGHにおいて，辺AB，AD，AEの長さをそれぞれa，b，cとする．また，頂点Aから直線FHにおろした垂線をALとする．(変数のときどうなるのか)'},\n",
      " {'id': 5,\n",
      "  'impression': ['そもそも台形が描画できない．長さの情報から座標に落とし込めてない．', '回転体についてもSurface関数の使い方がわかっていない．'],\n",
      "  'normalized': 'AB=5 cm，BC=6 cm，AD=3 cm，∠C=∠D=90°の台形 ABCD を，辺 DC を軸として 1回転させてできる立体の体積を求めなさい．',\n",
      "  'original': 'AB＝5 cm，BC＝6 cm，AD＝3 cm，∠C＝∠D＝90°の台形 ABCD を，辺 DC を軸として 1回転させてできる立体の体積を求めなさい。(回転体はいける？)'},\n",
      " {'id': 6,\n",
      "  'impression': ['円錐は描画できた．', '円柱を描こうとはしているが，位置が間違っている．'],\n",
      "  'normalized': '底面の半径が 3 cm の円すいの中に，底面の半径が 1 cm，高さが 4 cm の円柱がある。円柱の上面は円すいの側面に接し，底面は円すいの底面に固定されている.',\n",
      "  'original': '底面の半径が 3 cm の円すいの中に，底面の半径が 1 cm，高さが 4 cm の円柱がある。円柱の上面は円すいの側面に接し，底面は円すいの底面に固定されている.'},\n",
      " {'id': 7,\n",
      "  'impression': ['概ね正解．', 'Nだけ描画できてなかったが，使う関数は合ってた．引数が惜しい．'],\n",
      "  'normalized': 'AB=3 cm，BC=4 cm，BF=5 cm の直方体 ABCDEFGH がある。線分 FH の中点を M とし，線分 DM と線分 BH との交点を N とする．',\n",
      "  'original': 'AB＝3 cm，BC＝4 cm，BF＝5 cm の直方体 ABCDEFGH がある。線分 FH の中点を M とし，線分 DM と線分 BH との交点を N とする．'},\n",
      " {'id': 8,\n",
      "  'impression': ['OK'],\n",
      "  'normalized': 'AB=30 cm，AD=20 cm，AE=5 cm の直方体 ABCD-EFGH がある。辺 AB，HG の中点をそれぞれ M，N とし，頂点 A から線分 DM に引いた垂線と線分 DM の交点を P とする。',\n",
      "  'original': 'AB＝30 cm，AD＝20 cm，AE＝5 cm の直方体 ABCD－EFGH がある。辺 AB，HG の中点をそれぞれ M，N とし，頂点 A から線分 DM に引いた垂線と線分 DM の交点を P とする。'},\n",
      " {'id': 9,\n",
      "  'impression': ['立方体と対角線はOK', 'P, Qは惜しい感じ'],\n",
      "  'normalized': '１辺の長さが 6 cm の立方体がある。正方形 AEFB の対角線 AF 上に AP=PQ=QF となるように2点P，Q をとる。',\n",
      "  'original': '１辺の長さが 6 cm の立方体がある。正方形 AEFB の対角線 AF 上に AP＝PQ＝QF となるように２点P，Q をとる。'},\n",
      " {'id': 10,\n",
      "  'impression': ['立方体と対角線はOK', 'Iはダメ．線AG上ってのがきつそう'],\n",
      "  'normalized': '1辺が6cmの立方体ABCD-EFGHがあります．この立方体の対角線AG上に，角AIF=90°となる点Iをとります．',\n",
      "  'original': '1辺が6cmの立方体ABCD-EFGHがあります．この立方体の対角線AG上に，角AIF=90°となる点Iをとります．'}]\n"
     ]
    }
   ],
   "source": [
    "with open(QUESTION_INPUT_PATH, \"r\") as f:\n",
    "    question_dict = json.load(f)\n",
    "\n",
    "pprint.pprint(question_dict, width=150)"
   ]
  },
  {
   "cell_type": "code",
   "execution_count": 16,
   "metadata": {},
   "outputs": [
    {
     "name": "stdout",
     "output_type": "stream",
     "text": [
      "Created instance of 1/10\n",
      "Created instance of 2/10\n",
      "Created instance of 3/10\n",
      "Created instance of 4/10\n",
      "Created instance of 5/10\n",
      "Created instance of 6/10\n",
      "Created instance of 7/10\n",
      "Created instance of 8/10\n",
      "Created instance of 9/10\n",
      "Created instance of 10/10\n"
     ]
    }
   ],
   "source": [
    "# インスタンスのリストを作成\n",
    "q_instance_list = []\n",
    "for i in range(len(question_dict)):\n",
    "   q1 = DependencyAnalysis(\n",
    "      document = question_dict[i][\"normalized\"], \n",
    "      model = \"ja_ginza_electra\"\n",
    "   )\n",
    "   # 形態素解析を実行\n",
    "   q1.analyze()\n",
    "   q_instance_list.append(q1)\n",
    "   print(f\"Created instance of {i+1}/{len(question_dict)}\")"
   ]
  },
  {
   "cell_type": "code",
   "execution_count": 17,
   "metadata": {},
   "outputs": [],
   "source": [
    " for q_instance in q_instance_list:\n",
    "    tokens_list = []\n",
    "    for token in q_instance.doc:\n",
    "        token_data = {\n",
    "            \"text\":     token.text,     # テキスト\n",
    "            \"lemma\":    token.lemma_,   # レンマ\n",
    "            \"pos\":      token.pos_,     # 品詞\n",
    "            \"tag\":      token.tag_,     # 品詞詳細\n",
    "            \"dep\":      token.dep_,     # 構文従属関係\n",
    "            \"shape\":    token.shape_,   # 正書法の特徴(x:文字,d:数値)\n",
    "            \"is_alpha\": token.is_alpha, # 文字かどうか\n",
    "            \"is_stop\":  token.is_stop   # ストップリストの一部かどうか\n",
    "        }\n",
    "        tokens_list.append(token_data)\n",
    "df_tokens = pd.DataFrame(data = tokens_list , columns = token_data)\n",
    "\n",
    "# トークンデータフレームはExcelで可視化\n",
    "df_tokens.to_excel(\"token_list.xlsx\", index=False)"
   ]
  },
  {
   "cell_type": "code",
   "execution_count": 18,
   "metadata": {},
   "outputs": [
    {
     "name": "stdout",
     "output_type": "stream",
     "text": [
      "立体ABCD-EFGHは， | AB=40cm， | AD=30cm， | AE=50cmの | 直方体である． | 頂点Dと | 頂点Fを | 結び， | 頂点Bから | 線分DFに | 引いた | 垂線と | 線分DFとの | 交点を | Iと | する． | 線分BIの | 長さは | 何 | cmか． | \n",
      "[('AB=40cm，', 'AD=30cm，'),\n",
      " ('AD=30cm，', 'AE=50cmの'),\n",
      " ('立体ABCD-EFGHは，', '直方体である．'),\n",
      " ('AE=50cmの', '直方体である．'),\n",
      " ('頂点Dと', '頂点Fを'),\n",
      " ('頂点Fを', '結び，'),\n",
      " ('頂点Bから', '引いた'),\n",
      " ('線分DFに', '引いた'),\n",
      " ('引いた', '垂線と'),\n",
      " ('垂線と', '線分DFとの'),\n",
      " ('線分DFとの', '交点を'),\n",
      " ('結び，', 'する．'),\n",
      " ('交点を', 'する．'),\n",
      " ('Iと', 'する．'),\n",
      " ('線分BIの', '長さは'),\n",
      " ('長さは', 'cmか．'),\n",
      " ('何', 'cmか．')]\n"
     ]
    }
   ],
   "source": [
    "INDEX = 0\n",
    "\n",
    "# 文節をprint\n",
    "for span in q_instance_list[INDEX].span_list:\n",
    "   print(f\"{span} | \", end=\"\")\n",
    "print(\"\") # end=\"\"の回避\n",
    "\n",
    "pprint.pprint(q_instance_list[INDEX].dep_list)"
   ]
  },
  {
   "cell_type": "code",
   "execution_count": 19,
   "metadata": {},
   "outputs": [],
   "source": [
    "# 係り受けstrリストを，グラフ用外部ファイルに保存\n",
    "with open(GRAPH_DATA_PATH, \"w\", encoding = \"utf-8\") as f:\n",
    "    f.writelines(\"# begin end\\n\")\n",
    "    for dep in q_instance_list[INDEX].dep_list:\n",
    "        f.writelines(f\"{dep[0]} {dep[1]}\\n\")"
   ]
  },
  {
   "cell_type": "code",
   "execution_count": 20,
   "metadata": {},
   "outputs": [
    {
     "name": "stdout",
     "output_type": "stream",
     "text": [
      "../datas/graphs/dependency_network.html\n"
     ]
    }
   ],
   "source": [
    "# 有向グラフの作成\n",
    "G = nx.DiGraph()\n",
    "# ファイルの読み込み\n",
    "G = nx.read_edgelist(\n",
    "    GRAPH_DATA_PATH, \n",
    "    nodetype = str, \n",
    "    create_using = nx.DiGraph(), \n",
    "    encoding = \"utf-8\"\n",
    ")\n",
    "\n",
    "pyvis_G = Network(directed=True)\n",
    "pyvis_G.from_nx(G)\n",
    "pyvis_G.show(GRAPH_IMAGE_PATH, notebook=False)\n",
    "\n",
    "# # グラフの描画(plt使用の場合)\n",
    "# pos = nx.spring_layout(G)\n",
    "# nx.draw_networkx(\n",
    "#     G, \n",
    "#     pos,\n",
    "#     with_labels = True, \n",
    "#     alpha=0.5,\n",
    "#     font_family = \"Hiragino Sans\",\n",
    "# )\n",
    "# # 表示\n",
    "# plt.figure(figsize=(100,80))\n",
    "# plt.axis(\"off\")\n",
    "# plt.show()\n"
   ]
  }
 ],
 "metadata": {
  "kernelspec": {
   "display_name": "venv",
   "language": "python",
   "name": "python3"
  },
  "language_info": {
   "codemirror_mode": {
    "name": "ipython",
    "version": 3
   },
   "file_extension": ".py",
   "mimetype": "text/x-python",
   "name": "python",
   "nbconvert_exporter": "python",
   "pygments_lexer": "ipython3",
   "version": "3.9.6"
  },
  "orig_nbformat": 4
 },
 "nbformat": 4,
 "nbformat_minor": 2
}
