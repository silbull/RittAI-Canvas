{
 "cells": [
  {
   "cell_type": "code",
   "execution_count": 21,
   "metadata": {},
   "outputs": [],
   "source": [
    "import json, pprint"
   ]
  },
  {
   "cell_type": "code",
   "execution_count": 22,
   "metadata": {},
   "outputs": [],
   "source": [
    "import os, sys\n",
    "sys.path.append(os.path.join(os.path.dirname(\"__file__\"), '..'))"
   ]
  },
  {
   "cell_type": "code",
   "execution_count": 23,
   "metadata": {},
   "outputs": [],
   "source": [
    "JSON_INPUT_PATH = \"../datas/test.json\""
   ]
  },
  {
   "cell_type": "code",
   "execution_count": 24,
   "metadata": {},
   "outputs": [],
   "source": [
    "with open(JSON_INPUT_PATH, \"r\") as f:\n",
    "    json_list = json.load(f)\n",
    "\n",
    "new_data = {\n",
    "    \"id\": \"0003\",\n",
    "    \"data\": 1678\n",
    "}\n",
    "\n",
    "# 既存のJSONファイルを開いて新しいデータを追加\n",
    "with open(JSON_INPUT_PATH, 'r+') as f:\n",
    "    try:\n",
    "        existing_data = json.load(f)\n",
    "    except json.JSONDecodeError:\n",
    "        existing_data = []\n",
    "\n",
    "    existing_data.append(new_data)\n",
    "\n",
    "    # ファイルの読み込み位置を先頭に戻してからデータを書き込む\n",
    "    f.seek(0)\n",
    "    json.dump(existing_data, f, indent=4, ensure_ascii=False)\n",
    "    f.truncate()  # ファイルの後続部分を切り詰める\n",
    "\n",
    "# ファイルを閉じた後にJSONデータが更新されます"
   ]
  }
 ],
 "metadata": {
  "kernelspec": {
   "display_name": "venv",
   "language": "python",
   "name": "python3"
  },
  "language_info": {
   "codemirror_mode": {
    "name": "ipython",
    "version": 3
   },
   "file_extension": ".py",
   "mimetype": "text/x-python",
   "name": "python",
   "nbconvert_exporter": "python",
   "pygments_lexer": "ipython3",
   "version": "3.9.6"
  },
  "orig_nbformat": 4
 },
 "nbformat": 4,
 "nbformat_minor": 2
}
