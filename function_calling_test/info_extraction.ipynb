{
 "cells": [
  {
   "cell_type": "code",
   "execution_count": 11,
   "metadata": {},
   "outputs": [],
   "source": [
    "from dotenv import load_dotenv\n",
    "import json, pprint\n",
    "from pprint import pprint\n",
    "\n",
    "import openai"
   ]
  },
  {
   "cell_type": "code",
   "execution_count": 12,
   "metadata": {},
   "outputs": [],
   "source": [
    "import os, sys\n",
    "sys.path.append(os.path.join(os.path.dirname(\"__file__\"), '..'))"
   ]
  },
  {
   "cell_type": "code",
   "execution_count": 13,
   "metadata": {},
   "outputs": [],
   "source": [
    "# APIキーをファイルから読み込み，APIキー認証\n",
    "load_dotenv()\n",
    "openai.api_key = os.environ['OPENAI_API_KEY']"
   ]
  },
  {
   "cell_type": "markdown",
   "metadata": {},
   "source": [
    "### function callingの定義\n",
    "\n",
    "ざっくりいうと，数学問題文からオブジェクト(\"立方体\",　\"垂線\", など)をパラメータ付きで抽出するタスクをGPTに指示している．  \n",
    "言語処理のタスクのみでGeoGebra Scriptの生成は実行していない．"
   ]
  },
  {
   "cell_type": "code",
   "execution_count": 14,
   "metadata": {},
   "outputs": [],
   "source": [
    "functions = [\n",
    "    {\n",
    "        \"name\": \"information_extraction_3Dshapes\",\n",
    "        \"description\": \"\"\"This process extracts the part object names and parameters necessary to visualize a figure from a mathematical problem statement for a spatial graphic written in Japanese.\n",
    "        Part objects include the following. This is object type name and Japanese. \n",
    "        part_object_type = [\n",
    "            (\"Cube\", \"立方体\"),\n",
    "            (\"Rectangular\", \"直方体\"),\n",
    "            (\"Segment\", \"交点\"),\n",
    "            (\"Intersection\", \"線分\"),\n",
    "            (\"Midpoint\", \"中点\"),\n",
    "            (\"PerpendicularLine\", \"垂線\"),\n",
    "        ]\n",
    "\n",
    "        For each part object, extract the following parameters.\n",
    "        parameters = {\n",
    "            \"Cube\": [\"length of a side\"],\n",
    "            \"Rectangular\": [\"length_name\", \"length\", \"depth_name\", \"depth\", \"height_name\", \"height\"],\n",
    "            \"Segment\": [\"point_1\", \"point_2\"],\n",
    "            \"Intersection\": [\"object_name_1\", \"object_name_2\"],\n",
    "            \"Midpoint\": [\"point_1\", \"point_2\"],\n",
    "            \"PerpendicularLine\": [\"point\", \"object_name\"],\n",
    "        }\n",
    "        \"\"\",\n",
    "        \"parameters\": {\n",
    "            \"type\": \"object\",\n",
    "            \"properties\": {\n",
    "                \"part_objects\": {\n",
    "                    \"type\": \"array\",\n",
    "                    \"description\": \"An array of part object types, names, and parameters needed to visualize the figure.\",\n",
    "                    \"items\": {\n",
    "                        \"type\": \"object\",\n",
    "                        \"properties\": {\n",
    "                            \"object_name\": {\n",
    "                                \"type\": \"string\",\n",
    "                                \"description\": \"A name that identifies a shape. Restrict names to symbols only, such as ABCD-EFGH. If an obvious name does not exist in the problem statement, give an appropriate name, such as 'Perpendicular_A-BC'.\"\n",
    "                            },\n",
    "                            \"object_type\": {\n",
    "                                \"type\": \"string\",\n",
    "                                \"description\": \"The above part object type.\"\n",
    "                            },\n",
    "                            \"parameters\": {\n",
    "                                \"type\": \"array\",\n",
    "                                \"description\": \"An array of parameters associated with the part object. Extract the parameters as shown in the parameters dictionary above.\",\n",
    "                                \"items\": {\n",
    "                                    \"type\": \"string\",\n",
    "                                    \"description\": \"Parameters related to the figure. The length and the name of the object correspond to these parameters.\"\n",
    "                                }\n",
    "                            }\n",
    "                        }\n",
    "                    }\n",
    "                }\n",
    "            },\n",
    "            \"required\": [\"part_objects\"]\n",
    "        }\n",
    "    }\n",
    "]"
   ]
  },
  {
   "cell_type": "markdown",
   "metadata": {},
   "source": [
    "### システムプロンプトの入力"
   ]
  },
  {
   "cell_type": "code",
   "execution_count": 15,
   "metadata": {},
   "outputs": [],
   "source": [
    "system_prompt = \"I enter a math problem statement in Japanese. Please, extract the part object names and parameters necessary to visualize a figure from problem statement.\""
   ]
  },
  {
   "cell_type": "markdown",
   "metadata": {},
   "source": [
    "### 問題文の入力"
   ]
  },
  {
   "cell_type": "code",
   "execution_count": 16,
   "metadata": {},
   "outputs": [],
   "source": [
    "question_sentence = \"立体ABCD-EFGHは，AB=40cm，AD=30cm，AE=50cmの直方体である．頂点Dと頂点Fを結び，頂点Bから線分DFに引いた垂線と線分DFとの交点をIとする．線分BIの長さは何cmか．\""
   ]
  },
  {
   "cell_type": "markdown",
   "metadata": {},
   "source": [
    "### ChatCompletionの実行"
   ]
  },
  {
   "cell_type": "code",
   "execution_count": 17,
   "metadata": {},
   "outputs": [
    {
     "name": "stdout",
     "output_type": "stream",
     "text": [
      "{\n",
      "  \"id\": \"chatcmpl-842L2dZnNdT5XvVUHD7MVwSPKAExS\",\n",
      "  \"object\": \"chat.completion\",\n",
      "  \"created\": 1695972992,\n",
      "  \"model\": \"gpt-4-0613\",\n",
      "  \"choices\": [\n",
      "    {\n",
      "      \"index\": 0,\n",
      "      \"message\": {\n",
      "        \"role\": \"assistant\",\n",
      "        \"content\": null,\n",
      "        \"function_call\": {\n",
      "          \"name\": \"information_extraction_3Dshapes\",\n",
      "          \"arguments\": \"{\\n  \\\"part_objects\\\": [\\n    {\\n      \\\"object_name\\\": \\\"ABCD-EFGH\\\",\\n      \\\"object_type\\\": \\\"Rectangular\\\",\\n      \\\"parameters\\\": [\\\"AB\\\", \\\"40cm\\\", \\\"AD\\\", \\\"30cm\\\", \\\"AE\\\", \\\"50cm\\\"]\\n    },\\n    {\\n      \\\"object_name\\\": \\\"DF\\\",\\n      \\\"object_type\\\": \\\"Segment\\\",\\n      \\\"parameters\\\": [\\\"D\\\", \\\"F\\\"]\\n    },\\n    {\\n      \\\"object_name\\\": \\\"BI\\\",\\n      \\\"object_type\\\": \\\"PerpendicularLine\\\",\\n      \\\"parameters\\\": [\\\"B\\\", \\\"DF\\\"]\\n    },\\n    {\\n      \\\"object_name\\\": \\\"I\\\",\\n      \\\"object_type\\\": \\\"Intersection\\\",\\n      \\\"parameters\\\": [\\\"BI\\\", \\\"DF\\\"]\\n    }\\n  ]\\n}\"\n",
      "        }\n",
      "      },\n",
      "      \"finish_reason\": \"stop\"\n",
      "    }\n",
      "  ],\n",
      "  \"usage\": {\n",
      "    \"prompt_tokens\": 407,\n",
      "    \"completion_tokens\": 152,\n",
      "    \"total_tokens\": 559\n",
      "  }\n",
      "}\n",
      "information_extraction_3Dshapes\n",
      "{\n",
      "  \"part_objects\": [\n",
      "    {\n",
      "      \"object_name\": \"ABCD-EFGH\",\n",
      "      \"object_type\": \"Rectangular\",\n",
      "      \"parameters\": [\"AB\", \"40cm\", \"AD\", \"30cm\", \"AE\", \"50cm\"]\n",
      "    },\n",
      "    {\n",
      "      \"object_name\": \"DF\",\n",
      "      \"object_type\": \"Segment\",\n",
      "      \"parameters\": [\"D\", \"F\"]\n",
      "    },\n",
      "    {\n",
      "      \"object_name\": \"BI\",\n",
      "      \"object_type\": \"PerpendicularLine\",\n",
      "      \"parameters\": [\"B\", \"DF\"]\n",
      "    },\n",
      "    {\n",
      "      \"object_name\": \"I\",\n",
      "      \"object_type\": \"Intersection\",\n",
      "      \"parameters\": [\"BI\", \"DF\"]\n",
      "    }\n",
      "  ]\n",
      "}\n"
     ]
    }
   ],
   "source": [
    "response = openai.ChatCompletion.create(\n",
    "    model=\"gpt-4\",\n",
    "    messages=[\n",
    "        {\"role\": \"user\", \"content\": question_sentence}\n",
    "    ],\n",
    "    functions=functions,\n",
    "    temperature=0,\n",
    "    function_call={\"name\": \"information_extraction_3Dshapes\"}\n",
    ")\n",
    "\n",
    "print(response)\n",
    "print(response[\"choices\"][0][\"message\"][\"function_call\"][\"name\"])\n",
    "print(response[\"choices\"][0][\"message\"][\"function_call\"][\"arguments\"])"
   ]
  },
  {
   "cell_type": "markdown",
   "metadata": {},
   "source": [
    "### GeoGebra Scriptを生成する関数群"
   ]
  },
  {
   "cell_type": "code",
   "execution_count": 18,
   "metadata": {},
   "outputs": [],
   "source": [
    "def make_ggbscript_Cube(name, parameter_list):\n",
    "    return \"立方体\\n\"\n",
    "\n",
    "def make_ggbscript_Rectangular(name, parameter_list):\n",
    "    length = parameter_list[0]\n",
    "    height = parameter_list[1]\n",
    "    depth = parameter_list[2]\n",
    "\n",
    "    ggbscript = f\"{name[0]} = (0,0,0)\\n\"\n",
    "    ggbscript += f\"{name[1]} = ({length},0,0)\\n\"\n",
    "    ggbscript += f\"{name[2]} = ({length},{depth},0)\\n\"\n",
    "    ggbscript += f\"{name[3]} = (0,{depth},0)\\n\"\n",
    "    ggbscript += f\"{name[5]} = (0,0,{height})\\n\"\n",
    "    ggbscript += f\"{name[6]} = ({length},0,{height})\\n\"\n",
    "    ggbscript += f\"{name[7]} = ({length},{depth},{height})\\n\"\n",
    "    ggbscript += f\"{name[8]} = (0,{depth},{height})\\n\"\n",
    "    \n",
    "    ggbscript += f\"{name[0]}{name[1]} = Segment({name[0]},{name[1]})\\n\"\n",
    "    ggbscript += f\"{name[1]}{name[2]} = Segment({name[1]},{name[2]})\\n\"\n",
    "    ggbscript += f\"{name[2]}{name[3]} = Segment({name[2]},{name[3]})\\n\"\n",
    "    ggbscript += f\"{name[3]}{name[0]} = Segment({name[3]},{name[0]})\\n\"\n",
    "    ggbscript += f\"{name[0]}{name[5]} = Segment({name[0]},{name[5]})\\n\"\n",
    "    ggbscript += f\"{name[1]}{name[6]} = Segment({name[1]},{name[6]})\\n\"\n",
    "    ggbscript += f\"{name[2]}{name[7]} = Segment({name[2]},{name[7]})\\n\"\n",
    "    ggbscript += f\"{name[3]}{name[8]} = Segment({name[3]},{name[8]})\\n\"\n",
    "    ggbscript += f\"{name[5]}{name[6]} = Segment({name[5]},{name[6]})\\n\"\n",
    "    ggbscript += f\"{name[6]}{name[7]} = Segment({name[6]},{name[7]})\\n\"\n",
    "    ggbscript += f\"{name[7]}{name[8]} = Segment({name[7]},{name[8]})\\n\"\n",
    "    ggbscript += f\"{name[8]}{name[5]} = Segment({name[8]},{name[5]})\\n\"\n",
    "\n",
    "    return ggbscript\n",
    "\n",
    "def make_ggbscript_Segment(name, parameter_list):\n",
    "    ggbscript = f\"{name} = Segment({parameter_list[0]},{parameter_list[1]})\\n\"\n",
    "    return ggbscript\n",
    "\n",
    "def make_ggbscript_Intersection(name, parameter_list):\n",
    "    ggbscript = f\"{name} = Intersect({parameter_list[0]},{parameter_list[1]})\\n\"\n",
    "    return ggbscript\n",
    "\n",
    "def make_ggbscript_Midpoint(name, parameter_list):\n",
    "    return \"中点\\n\"\n",
    "\n",
    "def make_ggbscript_PerpendicularLine(name, parameter_list):\n",
    "    ggbscript = f\"{name} = PerpendicularLine({parameter_list[0]},{parameter_list[1]})\\n\"\n",
    "    return ggbscript"
   ]
  },
  {
   "cell_type": "code",
   "execution_count": 19,
   "metadata": {},
   "outputs": [],
   "source": [
    "def information_extraction_3Dshapes(part_object_list:list):\n",
    "    make_ggbscript_functions = {\n",
    "        \"Cube\": make_ggbscript_Cube,\n",
    "        \"Rectangular\": make_ggbscript_Rectangular,\n",
    "        \"Segment\": make_ggbscript_Segment,\n",
    "        \"Intersection\": make_ggbscript_Intersection,\n",
    "        \"Midpoint\": make_ggbscript_Midpoint,\n",
    "        \"PerpendicularLine\": make_ggbscript_PerpendicularLine,\n",
    "    }\n",
    "    ggbscript_list = []\n",
    "    for part_object in part_object_list:\n",
    "        if part_object[\"object_type\"] in make_ggbscript_functions.keys():\n",
    "            function_to_call = make_ggbscript_functions[part_object[\"object_type\"]]\n",
    "            ggbscript = function_to_call(part_object[\"object_name\"], part_object[\"parameters\"])\n",
    "        else:\n",
    "            raise ValueError(f\"{part_object['object_type']} は想定外のobject typeです．GeoGebraを生成するための関数が存在しません．\")\n",
    "        ggbscript_list.append(ggbscript)\n",
    "    return ggbscript_list\n"
   ]
  },
  {
   "cell_type": "markdown",
   "metadata": {},
   "source": [
    "### 実行と実行結果"
   ]
  },
  {
   "cell_type": "code",
   "execution_count": 20,
   "metadata": {},
   "outputs": [
    {
     "name": "stdout",
     "output_type": "stream",
     "text": [
      "A = (0,0,0)\n",
      "B = (AB,0,0)\n",
      "C = (AB,AD,0)\n",
      "D = (0,AD,0)\n",
      "E = (0,0,40cm)\n",
      "F = (AB,0,40cm)\n",
      "G = (AB,AD,40cm)\n",
      "H = (0,AD,40cm)\n",
      "AB = Segment(A,B)\n",
      "BC = Segment(B,C)\n",
      "CD = Segment(C,D)\n",
      "DA = Segment(D,A)\n",
      "AE = Segment(A,E)\n",
      "BF = Segment(B,F)\n",
      "CG = Segment(C,G)\n",
      "DH = Segment(D,H)\n",
      "EF = Segment(E,F)\n",
      "FG = Segment(F,G)\n",
      "GH = Segment(G,H)\n",
      "HE = Segment(H,E)\n",
      "DF = Segment(D,F)\n",
      "BI = PerpendicularLine(B,DF)\n",
      "I = Intersect(BI,DF)\n"
     ]
    }
   ],
   "source": [
    "available_functions = {\n",
    "    \"information_extraction_3Dshapes\": information_extraction_3Dshapes,\n",
    "}\n",
    "\n",
    "response_message = response[\"choices\"][0][\"message\"]\n",
    "if response_message.get(\"function_call\"):\n",
    "    # 呼び出す関数の名前を取り出す, string\n",
    "    function_name = response_message[\"function_call\"][\"name\"]\n",
    "    fuction_to_call = available_functions[function_name] # fuction_to_callは実行すべき関数\n",
    "    # 関数の引数を辞書型に変換して取り出す\n",
    "    function_arguments = json.loads(response_message[\"function_call\"][\"arguments\"])\n",
    "    # 関数を実行\n",
    "    function_response = fuction_to_call(function_arguments[\"part_objects\"])\n",
    "\n",
    "    for ggbscript in function_response:\n",
    "        print(ggbscript, end=\"\")\n",
    "    "
   ]
  }
 ],
 "metadata": {
  "kernelspec": {
   "display_name": "venv",
   "language": "python",
   "name": "python3"
  },
  "language_info": {
   "codemirror_mode": {
    "name": "ipython",
    "version": 3
   },
   "file_extension": ".py",
   "mimetype": "text/x-python",
   "name": "python",
   "nbconvert_exporter": "python",
   "pygments_lexer": "ipython3",
   "version": "3.9.6"
  },
  "orig_nbformat": 4
 },
 "nbformat": 4,
 "nbformat_minor": 2
}
