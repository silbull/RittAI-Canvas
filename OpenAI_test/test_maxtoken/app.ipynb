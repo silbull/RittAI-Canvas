{
 "cells": [
  {
   "cell_type": "code",
   "execution_count": 17,
   "metadata": {},
   "outputs": [],
   "source": [
    "from dotenv import load_dotenv\n",
    "import os, sys\n",
    "import openai\n",
    "\n",
    "import json, ndjson, pprint\n",
    "\n",
    "from time import sleep\n",
    "import logging\n",
    "import datetime"
   ]
  },
  {
   "cell_type": "code",
   "execution_count": 18,
   "metadata": {},
   "outputs": [],
   "source": [
    "# APIキーをファイルから読み込み，APIキー認証\n",
    "load_dotenv()\n",
    "openai.api_key = os.environ['OPENAI_API_KEY']"
   ]
  },
  {
   "cell_type": "code",
   "execution_count": 19,
   "metadata": {},
   "outputs": [],
   "source": [
    "# 処理時間を計測するため、loggerのフォーマット設定しています\n",
    "logger = logging.getLogger(__name__)\n",
    "logger.setLevel(logging.DEBUG)\n",
    "format = '%(asctime)s [%(levelname)s] %(filename)s, lines %(lineno)d. %(message)s'\n",
    "formatter = logging.Formatter(format, '%Y-%m-%d %H:%M:%S')\n",
    "stream_handler = logging.StreamHandler()\n",
    "stream_handler.setFormatter(formatter)\n",
    "logger.addHandler(stream_handler)"
   ]
  },
  {
   "cell_type": "code",
   "execution_count": 20,
   "metadata": {},
   "outputs": [],
   "source": [
    "# トークログ(プロンプト)のバックアップログを取る関数\n",
    "def AddBackUpLog_gptPrompt(prompt:dict):\n",
    "    dt_now = datetime.datetime.now()\n",
    "    BACKUP_LOG_PATH = f\"./log/openai.ChatCompletion.create_{dt_now.year}-{dt_now.month}-{dt_now.day}.ndjson\"\n",
    "    with open(BACKUP_LOG_PATH, 'a') as f:\n",
    "        writer = ndjson.writer(f, ensure_ascii=False)\n",
    "        writer.writerow(prompt)\n",
    "\n",
    "# \n",
    "def ChatCompletion(prompt:str, max_token:int = 4000):\n",
    "    AddBackUpLog_gptPrompt({\"role\": \"user\", \"content\": prompt}) # GPT入力/出力のログを取る\n",
    "    retry_interval = 2\n",
    "    tries = 4\n",
    "    for num_try in range(1, tries+1):\n",
    "        try:\n",
    "            print(f\"START ChatCompletion.create Contents ... \", end=\"\")\n",
    "            response = openai.ChatCompletion.create(\n",
    "                model = \"gpt-3.5-turbo\",\n",
    "                messages = [{\"role\": \"user\", \"content\": prompt}],\n",
    "                max_tokens = max_token\n",
    "            )\n",
    "            print(f\"FINISH ChatCompletion.create\")\n",
    "            AddBackUpLog_gptPrompt(response[\"choices\"][0][\"message\"]) # GPT入力/出力のログを取る\n",
    "            break\n",
    "        except:\n",
    "            print(f\"ChatCompletion.create ERROR\")\n",
    "            if num_try == tries:\n",
    "                raise\n",
    "            sleep(retry_interval)\n",
    "            logger.info(f'リトライ回数:{num_try}回目')\n",
    "            continue\n",
    "    return response"
   ]
  },
  {
   "cell_type": "code",
   "execution_count": 21,
   "metadata": {},
   "outputs": [
    {
     "name": "stdout",
     "output_type": "stream",
     "text": [
      "START ChatCompletion.create Contents ... FINISH ChatCompletion.create\n",
      "{'choices': [{'finish_reason': 'length',\n",
      "              'index': 0,\n",
      "              'message': {'content': 'AI（人工知能）は、コンピューターシステムやプログラムが人間の知能の一部を模倣することで、知識の獲得や推論、問題解決、学習、意思決定などのタスクを実行する能力を指します。AIは、機械学習、深層学習、自然言語処理、画像認識、音声認識などの技術を用いて実現されます。また、AIは様々な分野で活用され、自動運転、医療診断、音声アシスタント、金融',\n",
      "                          'role': 'assistant'}}],\n",
      " 'created': 1691926872,\n",
      " 'id': 'chatcmpl-7n3l230FhvFqo2FfAnEZ0RnuEc9uq',\n",
      " 'model': 'gpt-3.5-turbo-0613',\n",
      " 'object': 'chat.completion',\n",
      " 'usage': {'completion_tokens': 199,\n",
      "           'prompt_tokens': 15,\n",
      "           'total_tokens': 214}}\n"
     ]
    }
   ],
   "source": [
    "prompt = \"AIとはなんですか？\"\n",
    "\n",
    "res = ChatCompletion(prompt, max_token=200)\n",
    "pprint.pprint(res)"
   ]
  }
 ],
 "metadata": {
  "kernelspec": {
   "display_name": "venv",
   "language": "python",
   "name": "python3"
  },
  "language_info": {
   "codemirror_mode": {
    "name": "ipython",
    "version": 3
   },
   "file_extension": ".py",
   "mimetype": "text/x-python",
   "name": "python",
   "nbconvert_exporter": "python",
   "pygments_lexer": "ipython3",
   "version": "3.9.6"
  },
  "orig_nbformat": 4
 },
 "nbformat": 4,
 "nbformat_minor": 2
}
